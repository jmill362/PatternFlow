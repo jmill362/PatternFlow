{
 "cells": [
  {
   "cell_type": "code",
   "execution_count": null,
   "id": "53986b2b",
   "metadata": {},
   "outputs": [],
   "source": [
    "#Imports\n",
    "import os\n",
    "os.environ[\"CUDA_VISIBLE_DEVICES\"] = \"-1\"\n",
    "import tensorflow as tf\n",
    "from tensorflow.keras import datasets, layers, models\n",
    "import matplotlib.pyplot as plt\n",
    "from tensorflow.keras import backend as K\n",
    "from glob import glob\n",
    "\n",
    "AUTOTUNE = tf.data.experimental.AUTOTUNE\n",
    "\n",
    "#Variables\n",
    "batch_size = 10\n",
    "buffer_size = 1000\n",
    "\n",
    "dataset_path = \"D:/Drive D/Data Science/Semester 4/COMP3710/ISIC/\"\n",
    "\n",
    "\n",
    "data_dir = \"ISIC2018_Task1-2_Training_Input_x2/\"\n",
    "data_seg = \"ISIC2018_Task1_Training_GroundTruth_x2/\"\n",
    "\n",
    "data_size = len(glob(dataset_path + data_dir + \"*.png\"))\n",
    "\n",
    "training_data, training_seg, validation_data, validation_seg, test_data, test_seg = load_data(dataset_path + data_dir, dataset_path + data_seg)\n",
    "\n",
    "\n",
    "\n"
   ]
  },
  {
   "cell_type": "code",
   "execution_count": null,
   "id": "a3102a76",
   "metadata": {},
   "outputs": [],
   "source": [
    "def load_data(path1, path2):\n",
    "    \n",
    "    \n",
    "\n"
   ]
  }
 ],
 "metadata": {
  "kernelspec": {
   "display_name": "Python 3",
   "language": "python",
   "name": "python3"
  },
  "language_info": {
   "codemirror_mode": {
    "name": "ipython",
    "version": 3
   },
   "file_extension": ".py",
   "mimetype": "text/x-python",
   "name": "python",
   "nbconvert_exporter": "python",
   "pygments_lexer": "ipython3",
   "version": "3.7.6"
  }
 },
 "nbformat": 4,
 "nbformat_minor": 5
}
